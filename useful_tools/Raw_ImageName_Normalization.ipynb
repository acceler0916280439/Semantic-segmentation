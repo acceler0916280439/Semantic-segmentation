{
 "cells": [
  {
   "cell_type": "code",
   "execution_count": null,
   "metadata": {},
   "outputs": [],
   "source": [
    "import os\n",
    "from PIL import Image"
   ]
  },
  {
   "cell_type": "code",
   "execution_count": null,
   "metadata": {
    "scrolled": false
   },
   "outputs": [],
   "source": [
    "path = input('Input your raw picture path: ')\n",
    "origin_path = path.replace('\\\\', '/')\n",
    "\n",
    "path2 = input('Input your target path: ')\n",
    "target_path = path2.replace('\\\\', '/')\n",
    "\n",
    "img_file = os.listdir(origin_path)\n",
    "file_amount = len(img_file)"
   ]
  },
  {
   "cell_type": "code",
   "execution_count": null,
   "metadata": {},
   "outputs": [],
   "source": [
    "for i in range(file_amount):\n",
    "    Input = Image.open(origin_path + img_file[i])\n",
    "    Input.save(target_path + '%d-1_Color.png'%(i+1))\n",
    "    print('Success to transform the picture name into %d-1_Color.png'%(i+1))\n",
    "    \n",
    "print('Finished!')"
   ]
  }
 ],
 "metadata": {
  "kernelspec": {
   "display_name": "Python (tensorflow-gpu)",
   "language": "python",
   "name": "tensorflow-gpu"
  },
  "language_info": {
   "codemirror_mode": {
    "name": "ipython",
    "version": 3
   },
   "file_extension": ".py",
   "mimetype": "text/x-python",
   "name": "python",
   "nbconvert_exporter": "python",
   "pygments_lexer": "ipython3",
   "version": "3.6.8"
  }
 },
 "nbformat": 4,
 "nbformat_minor": 2
}

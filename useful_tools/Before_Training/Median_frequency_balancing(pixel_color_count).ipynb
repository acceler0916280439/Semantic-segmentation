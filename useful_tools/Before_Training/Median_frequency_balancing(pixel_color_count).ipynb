{
 "cells": [
  {
   "cell_type": "code",
   "execution_count": null,
   "metadata": {},
   "outputs": [],
   "source": [
    "from PIL import Image\n",
    "import os"
   ]
  },
  {
   "cell_type": "code",
   "execution_count": 1,
   "metadata": {
    "scrolled": false
   },
   "outputs": [
    {
     "name": "stdout",
     "output_type": "stream",
     "text": [
      "num of label: 193447\n",
      "num of background: 8505551\n"
     ]
    }
   ],
   "source": [
    "i = 1\n",
    "j = 1\n",
    "x = 0 #表示pixel為紅色的數量\n",
    "y = 0 #表示pixel為黑色的數量\n",
    "\n",
    "path = input('Input your path of trainset: ')\n",
    "path = path.replace('\\\\', '/') + '/'\n",
    "\n",
    "img_file = os.listdir(path)\n",
    "picture_amount = len(img_file)\n",
    "\n",
    "for p in range(picture_amount): #首先匯入圖片\n",
    "    name = '%d-1_Color.png'%(p+1)\n",
    "    img = Image.open(path + name)\n",
    "\n",
    "    width = img.size[0]#圖片寬度\n",
    "    height = img.size[1]#圖片長度\n",
    "    \n",
    "    for i in range(width):#遍歷所有寬度的pixel\n",
    "        for j in range(height):#遍歷所有長度的pixel\n",
    "            data = (img.getpixel((i, j)))#取得該圖片指定位置的pixel\n",
    "            if (data == 1):# the class of pixel = 1, pixel為紅色\n",
    "                x += 1 #紅色計數+1\n",
    "            else:\n",
    "                y += 1 #黑色計數+1\n",
    "\n",
    "print('num of labeled pixel: {}'.format(x))\n",
    "print('num of background pixel: {}'.format(y))"
   ]
  },
  {
   "cell_type": "code",
   "execution_count": null,
   "metadata": {},
   "outputs": [],
   "source": [
    "all_pixel = width * height * picture_amount\n",
    "\n",
    "fla = x/all_pixel\n",
    "fba = y/all_pixel\n",
    "\n",
    "median = 0.5\n",
    "\n",
    "wla = median/fla\n",
    "wba = median/fba"
   ]
  },
  {
   "cell_type": "code",
   "execution_count": 2,
   "metadata": {},
   "outputs": [
    {
     "name": "stdout",
     "output_type": "stream",
     "text": [
      "確認pixel總數: 8698998\n",
      "確認屬於labeled之pixel數: 193447\n",
      "確認屬於background之pixel數: 8505551\n",
      "label權重調整為: 22.484189467916273\n",
      "background權重調整為: 0.5113718088340191\n"
     ]
    }
   ],
   "source": [
    "print('確認pixel總數: {}'.format(all_pixel))\n",
    "print('確認屬於labeled之pixel數: {}'.format(all_pixel - y))\n",
    "print('確認屬於background之pixel數: {}'.format(all_pixel - x))\n",
    "print('label權重應調整為: {}'.format(wla))\n",
    "print('background權重應調整為: {}'.format(wba))"
   ]
  }
 ],
 "metadata": {
  "kernelspec": {
   "display_name": "Python (tensorflow-gpu)",
   "language": "python",
   "name": "tensorflow-gpu"
  },
  "language_info": {
   "codemirror_mode": {
    "name": "ipython",
    "version": 3
   },
   "file_extension": ".py",
   "mimetype": "text/x-python",
   "name": "python",
   "nbconvert_exporter": "python",
   "pygments_lexer": "ipython3",
   "version": "3.6.8"
  }
 },
 "nbformat": 4,
 "nbformat_minor": 2
}

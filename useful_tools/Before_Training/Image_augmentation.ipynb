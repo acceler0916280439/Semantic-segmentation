{
 "cells": [
  {
   "cell_type": "code",
   "execution_count": 1,
   "metadata": {},
   "outputs": [],
   "source": [
    "from PIL import Image\n",
    "import os"
   ]
  },
  {
   "cell_type": "code",
   "execution_count": 5,
   "metadata": {},
   "outputs": [
    {
     "name": "stdout",
     "output_type": "stream",
     "text": [
      "Done!\n"
     ]
    }
   ],
   "source": [
    "# 讀取圖像\n",
    "path = input('Input your picture file path: ')\n",
    "picture_path = path.replace('\\\\', '/') + '/'\n",
    "\n",
    "filedir = os.listfir(picture_path)\n",
    "picture_amount = len(filedir)\n",
    "\n",
    "# 以下3種圖片處理方式，將增加3倍的資料量 = 原本資料量的4倍\n",
    "for i in range(picture_amount):\n",
    "    \n",
    "    img = Image.open('{}{}-1_Color.png'.format(picture_path, '%d'%(i+1))) # 資料夾中的第一張圖片名稱: 1-1_Color.png\n",
    "    \n",
    "    # 圖像左右反轉並保存\n",
    "    result1 = img.transpose(Image.FLIP_LEFT_RIGHT)\n",
    "    result1.save('{}{}-1_Color.png'.format(picture_path, '%d'%(i + 1 + picture_amount*1)) ) # 擴增的第一張圖片名稱\n",
    "    \n",
    "    # 左右反轉後再上下反轉並保存\n",
    "    #result1 = im.transpose(Image.FLIP_LEFT_RIGHT)\n",
    "    result2 = result1.transpose(Image.FLIP_TOP_BOTTOM)\n",
    "    result2.save('{}{}-1_Color.png'.format(picture_path, '%d'%(i + 1 + picture_amount*2)))\n",
    "    \n",
    "    # 圖像上下反轉並保存\n",
    "    result3 = img.transpose(Image.FLIP_TOP_BOTTOM)\n",
    "    result3.save('{}{}-1_Color.png'.format(picture_path, '%d'%(i + 1 + picture_amount*3)))\n",
    "\n",
    "print('Done!')"
   ]
  }
 ],
 "metadata": {
  "kernelspec": {
   "display_name": "Python (tensorflow-gpu)",
   "language": "python",
   "name": "tensorflow-gpu"
  },
  "language_info": {
   "codemirror_mode": {
    "name": "ipython",
    "version": 3
   },
   "file_extension": ".py",
   "mimetype": "text/x-python",
   "name": "python",
   "nbconvert_exporter": "python",
   "pygments_lexer": "ipython3",
   "version": "3.6.8"
  }
 },
 "nbformat": 4,
 "nbformat_minor": 2
}
